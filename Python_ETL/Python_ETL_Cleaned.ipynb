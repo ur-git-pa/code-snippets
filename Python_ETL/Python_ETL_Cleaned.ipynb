{
 "cells": [
  {
   "cell_type": "code",
   "execution_count": null,
   "metadata": {},
   "outputs": [],
   "source": [
    "#pip install -r requirements.txt"
   ]
  },
  {
   "cell_type": "code",
   "execution_count": 1,
   "metadata": {},
   "outputs": [
    {
     "data": {
      "text/plain": [
       "True"
      ]
     },
     "execution_count": 1,
     "metadata": {},
     "output_type": "execute_result"
    }
   ],
   "source": [
    "from dotenv import load_dotenv\n",
    "import os\n",
    "import pandas as pd\n",
    "\n",
    "load_dotenv('creds.env')"
   ]
  },
  {
   "cell_type": "markdown",
   "metadata": {},
   "source": [
    "# Rentalman Connector"
   ]
  },
  {
   "cell_type": "code",
   "execution_count": null,
   "metadata": {},
   "outputs": [],
   "source": [
    "import pyodbc\n",
    "rm_conn = pyodbc.connect(driver='{IBM i Access ODBC Driver}', system=os.getenv('RENTALMAN_URL'),SIGNON=4)\n",
    "rm_c1 = rm_conn.cursor()\n",
    "\n",
    "# Pull Data\n",
    "rm_query = '''\n",
    "SELECT *\n",
    "FROM SCHEMA.TABLE\n",
    "LIMIT 1\n",
    "'''\n",
    "\n",
    "rm_c1.execute(rm_query)\n",
    "# /Pull Data\n",
    "results = rm_c1.fetchall()\n",
    "\n",
    "rentalman_df = pd.DataFrame.from_records(results, columns=[x[0] for x in rm_c1.description])\n",
    "\n",
    "# Converts your dataframe into tuple form for loading into teradata\n",
    "data = [tuple(row) for row in rentalman_df.values]"
   ]
  },
  {
   "cell_type": "markdown",
   "metadata": {},
   "source": [
    "# Teradata Connector"
   ]
  },
  {
   "cell_type": "code",
   "execution_count": null,
   "metadata": {},
   "outputs": [],
   "source": [
    "import teradatasql\n",
    "conn =  teradatasql.connect(host=os.getenv('TERADATA_URL'), user=os.getenv('TERADATA_USERNAME'), password=os.getenv('TERADATA_PASSWORD'))\n",
    "cursor = conn.cursor()\n",
    "# Drop Data\n",
    "drop_table_query = \"\"\"\n",
    "DELETE FROM SCHEMA.TABLE;\n",
    "\"\"\"\n",
    "cursor.execute(drop_table_query)\n",
    "# /Drop Data\n",
    "\n",
    "# Loading Data\n",
    "insert_query = '''\n",
    "INSERT INTO SCHEMA.TABLE (\n",
    "COLUMN_FIELD1,\n",
    "COLUMN_FIELD2\n",
    "\n",
    ")  VALUES(\n",
    "?,\n",
    "?\n",
    ")\n",
    "'''\n",
    "cursor.executemany(insert_query, data)\n",
    "# / Loading Data\n",
    "\n",
    "\n",
    "# Pull Data\n",
    "query = \"\"\"\n",
    "Select top 1 * from SCHEMA.TABLE\n",
    "\"\"\"\n",
    "df=pd.read_sql(query,conn)\n",
    "# / Pull Data\n",
    "\n",
    "\n",
    "conn.commit()\n",
    "cursor.close()\n",
    "conn.close()"
   ]
  },
  {
   "cell_type": "markdown",
   "metadata": {},
   "source": [
    "# Snowflake Connector"
   ]
  },
  {
   "cell_type": "code",
   "execution_count": null,
   "metadata": {},
   "outputs": [],
   "source": [
    "from snowflake.snowpark import Session\n",
    "\n",
    "connection_parameters = {\n",
    "    \"account\": os.getenv('SNOWFLAKE_ACCOUNT'),\n",
    "    \"user\": os.getenv('SNOWFLAKE_USERNAME'),\n",
    "    \"password\": os.getenv('SNOWFLAKE_PASSWORD'),\n",
    "    \"role\": os.getenv('ROLE'),\n",
    "    \"warehouse\": os.getenv('WAREHOUSE'),\n",
    "    # OPTIONAL \"database\": os.getenv('DATABASE'),\n",
    "    # OPTIONAL \"schema\": os.getenv('SCHEMA')\n",
    "    }\n",
    "\n",
    "\n",
    "session = Session.builder.configs(connection_parameters).create()\n",
    "\n",
    "#Pull Data\n",
    "snowflake_df = session.sql(\"\"\"\n",
    "                           select top 5 *\n",
    "from database.schema.table\n",
    "                           \"\"\")\n",
    "#/Pull Data\n",
    "\n",
    "# Display data (Not in a pandas dataframe)\n",
    "#snowflake_df.show()\n",
    "\n",
    "# Load Query into Pandas\n",
    "df = pd.DataFrame(snowflake_df.collect())\n",
    "\n",
    "\n",
    "\n",
    "#Load Pandas into Snowflake\n",
    "df.write.mode(\"overwrite\").save_as_table(\"database.schema.table\")"
   ]
  }
 ],
 "metadata": {
  "kernelspec": {
   "display_name": "Python 3",
   "language": "python",
   "name": "python3"
  },
  "language_info": {
   "codemirror_mode": {
    "name": "ipython",
    "version": 3
   },
   "file_extension": ".py",
   "mimetype": "text/x-python",
   "name": "python",
   "nbconvert_exporter": "python",
   "pygments_lexer": "ipython3",
   "version": "3.11.1"
  }
 },
 "nbformat": 4,
 "nbformat_minor": 2
}
